{
  "nbformat": 4,
  "nbformat_minor": 0,
  "metadata": {
    "colab": {
      "name": "BD_mapReduce.ipynb",
      "provenance": []
    },
    "kernelspec": {
      "name": "python3",
      "display_name": "Python 3"
    },
    "language_info": {
      "name": "python"
    }
  },
  "cells": [
    {
      "cell_type": "code",
      "execution_count": 13,
      "metadata": {
        "id": "vbohyO5Brq5d"
      },
      "outputs": [],
      "source": [
        "import random\n",
        "import numpy as np\n",
        "users = []\n",
        "for i in range(0,1000):\n",
        "  friends = set([])\n",
        "  users.append(friends)\n",
        "for i in range(len(users)*25//10):\n",
        "  while True:  \n",
        "    random_friend01 = random.randint(1, len(users))\n",
        "    random_friend02 = random.randint(1, len(users))\n",
        "    if(random_friend01 != random_friend02):\n",
        "      break\n",
        "  users[random_friend01-1].add(random_friend02)\n",
        "  users[random_friend02-1].add(random_friend01)\n",
        "\n",
        "\n",
        "  "
      ]
    },
    {
      "cell_type": "code",
      "source": [
        "users[0:10]"
      ],
      "metadata": {
        "id": "OASwTkZjxR7n",
        "colab": {
          "base_uri": "https://localhost:8080/"
        },
        "outputId": "e5748bc4-33a6-4316-b2d2-9f98a87db0a9"
      },
      "execution_count": 14,
      "outputs": [
        {
          "output_type": "execute_result",
          "data": {
            "text/plain": [
              "[{181, 323, 361, 397, 479, 507, 641, 663, 857, 911, 914},\n",
              " {257, 435, 979},\n",
              " {22, 93, 131, 714, 760, 803},\n",
              " {377, 818},\n",
              " {244, 347, 348, 819, 930},\n",
              " {14, 109, 489, 549, 588, 767, 933, 983},\n",
              " {83, 563, 871, 963},\n",
              " {187, 267, 457, 563, 906},\n",
              " {34, 125, 309, 836, 925},\n",
              " {144, 328, 511, 800}]"
            ]
          },
          "metadata": {},
          "execution_count": 14
        }
      ]
    },
    {
      "cell_type": "code",
      "source": [
        "np.mean(list(map(lambda x: len(x), users)))"
      ],
      "metadata": {
        "colab": {
          "base_uri": "https://localhost:8080/"
        },
        "id": "9IwcP8Mawkxv",
        "outputId": "52a5d73c-0bbe-4403-ea81-a30601aff751"
      },
      "execution_count": 15,
      "outputs": [
        {
          "output_type": "execute_result",
          "data": {
            "text/plain": [
              "4.988"
            ]
          },
          "metadata": {},
          "execution_count": 15
        }
      ]
    },
    {
      "cell_type": "code",
      "source": [
        "np.std(list(map(lambda x: len(x), users)))"
      ],
      "metadata": {
        "colab": {
          "base_uri": "https://localhost:8080/"
        },
        "id": "AQmWy-vz2zck",
        "outputId": "ba145192-bac5-4e89-ab78-e3959b041d86"
      },
      "execution_count": 16,
      "outputs": [
        {
          "output_type": "execute_result",
          "data": {
            "text/plain": [
              "2.1660692509705224"
            ]
          },
          "metadata": {},
          "execution_count": 16
        }
      ]
    },
    {
      "cell_type": "code",
      "source": [
        "# \"x\" - Create - will create a file, returns an error if the file exist\n",
        "# \"a\" - Append - will append to the end of the file\n",
        "# \"w\" - Write - will overwrite any existing content\n",
        "\n",
        "i0 = 0\n",
        "for f in range(0,10):  \n",
        "  i1 = i0+(len(users)//10)\n",
        "  file_i = open(\"/content/drive/MyDrive/Colab_Notebooks/DBII/file\"+chr(f+65)+str(f+1)+\".txt\", \"w\")\n",
        "  for i in range(i0,i1):\n",
        "    line = str(i+1) + \" -> \" + \" \".join(str(e) for e in list(map(lambda x : x, users[i]))) + \"\\n\"\n",
        "    file_i.write(line)\n",
        "  file_i.close()\n",
        "  i0 = i1"
      ],
      "metadata": {
        "id": "ncgYaYep6AVf"
      },
      "execution_count": 17,
      "outputs": []
    },
    {
      "cell_type": "code",
      "source": [
        "file_all = open(\"/content/drive/MyDrive/Colab_Notebooks/DBII/file_ALL.txt\", \"w\")\n",
        "for i in range(len(users)):\n",
        "  line = str(i+1) + \" -> \" + \" \".join(str(e) for e in list(map(lambda x : x, users[i]))) + \"\\n\"\n",
        "  file_all.write(line)\n",
        "file_all.close()"
      ],
      "metadata": {
        "id": "HzZe-3PLTVK4"
      },
      "execution_count": 18,
      "outputs": []
    }
  ]
}